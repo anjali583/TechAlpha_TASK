{
  "nbformat": 4,
  "nbformat_minor": 0,
  "metadata": {
    "colab": {
      "provenance": []
    },
    "kernelspec": {
      "name": "python3",
      "display_name": "Python 3"
    },
    "language_info": {
      "name": "python"
    }
  },
  "cells": [
    {
      "cell_type": "code",
      "execution_count": 1,
      "metadata": {
        "colab": {
          "base_uri": "https://localhost:8080/"
        },
        "id": "iE8XZdupljsa",
        "outputId": "2a4dce9a-f547-4848-dbe3-2907cef9dd20"
      },
      "outputs": [
        {
          "output_type": "stream",
          "name": "stdout",
          "text": [
            "    *\n",
            "   ***\n",
            "  *****\n",
            " *******\n",
            "*********\n",
            " *******\n",
            "  *****\n",
            "   ***\n",
            "    *\n"
          ]
        }
      ],
      "source": [
        "def print_diamond(n):\n",
        "    # Print upper half of the diamond\n",
        "    for i in range(1, n + 1):\n",
        "        print(\" \" * (n - i) + \"*\" * (2 * i - 1))\n",
        "\n",
        "    # Print lower half of the diamond\n",
        "    for i in range(n - 1, 0, -1):\n",
        "        print(\" \" * (n - i) + \"*\" * (2 * i - 1))\n",
        "\n",
        "# Example usage:\n",
        "n = 5\n",
        "print_diamond(n)\n"
      ]
    }
  ]
}